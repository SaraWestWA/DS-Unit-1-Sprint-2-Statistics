{
  "nbformat": 4,
  "nbformat_minor": 0,
  "metadata": {
    "colab": {
      "name": "SW_123_Introduction_to_Bayesian_Inference_Assignment.ipynb",
      "provenance": [],
      "include_colab_link": true
    },
    "kernelspec": {
      "name": "python3",
      "display_name": "Python 3"
    }
  },
  "cells": [
    {
      "cell_type": "markdown",
      "metadata": {
        "id": "view-in-github",
        "colab_type": "text"
      },
      "source": [
        "<a href=\"https://colab.research.google.com/github/SaraWestWA/DS-Unit-1-Sprint-2-Statistics/blob/master/module3/SW_123_Introduction_to_Bayesian_Inference_Assignment.ipynb\" target=\"_parent\"><img src=\"https://colab.research.google.com/assets/colab-badge.svg\" alt=\"Open In Colab\"/></a>"
      ]
    },
    {
      "cell_type": "markdown",
      "metadata": {
        "id": "H7OLbevlbd_Z",
        "colab_type": "text"
      },
      "source": [
        "# Lambda School Data Science Module 123\n",
        "\n",
        "## Introduction to Bayesian Inference\n",
        "\n",
        "\n"
      ]
    },
    {
      "cell_type": "markdown",
      "metadata": {
        "id": "P-DzzRk5bf0z",
        "colab_type": "text"
      },
      "source": [
        "## Assignment - Code it up!\n",
        "\n",
        "We used pure math to apply Bayes Theorem to drug tests. Now write Python code to reproduce the results! This is purposefully open ended - you'll have to think about how you should represent probabilities and events. You can and should look things up.\n",
        "\n",
        "Specific goals/targets:\n",
        "\n",
        "### 1) Write a function \n",
        "\n",
        "`def prob_drunk_given_positive(prob_drunk_prior, false_positive_rate, true_positive_rate):` \n",
        "\n",
        "You should only truly need these two values in order to apply Bayes Theorem. In this example, imagine that individuals are taking a breathalyzer test with an 8% false positive rate, a 100% true positive rate, and that our prior belief about drunk driving in the population is 1/1000. \n",
        " - What is the probability that a person is drunk after one positive breathalyzer test?\n",
        " - What is the probability that a person is drunk after two positive breathalyzer tests?\n",
        " - How many positive breathalyzer tests are needed in order to have a probability that's greater than 95% that a person is drunk beyond the legal limit?\n",
        "\n",
        "### 2) Explore `scipy.stats.bayes_mvs`  \n",
        "Read its documentation, and experiment with it on data you've tested in other ways earlier this week.\n",
        " - Create a visualization comparing the results of a Bayesian approach to a traditional/frequentist approach. (with a large sample size they should look close to identical, however, take this opportunity to practice visualizing condfidence intervals in general. The following are some potential ways that you could visualize confidence intervals on your graph:\n",
        "  - [Matplotlib Error Bars](https://matplotlib.org/3.1.1/api/_as_gen/matplotlib.pyplot.errorbar.html)\n",
        "  - [Seaborn barplot with error bars](https://seaborn.pydata.org/generated/seaborn.barplot.html)\n",
        "  - [Vertical ines to show bounds of confidence interval](https://www.simplypsychology.org/confidence-interval.jpg)\n",
        "  - [Confidence Intervals on Box Plots](https://matplotlib.org/3.1.1/api/_as_gen/matplotlib.axes.Axes.boxplot.html)\n",
        "\n",
        "### 3) In your own words, summarize the difference between Bayesian and Frequentist statistics\n",
        "\n",
        "If you're unsure where to start, check out [this blog post of Bayes theorem with Python](https://dataconomy.com/2015/02/introduction-to-bayes-theorem-with-python/).\n",
        "\n"
      ]
    },
    {
      "cell_type": "markdown",
      "metadata": {
        "id": "-JR7ozyFjupm",
        "colab_type": "text"
      },
      "source": [
        "![image.png](data:image/png;base64,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)"
      ]
    },
    {
      "cell_type": "code",
      "metadata": {
        "id": "wNMImSlMxXjJ",
        "colab_type": "code",
        "colab": {}
      },
      "source": [
        "import pandas as pd\n",
        "import numpy as np\n",
        "# import scipy as"
      ],
      "execution_count": 0,
      "outputs": []
    },
    {
      "cell_type": "markdown",
      "metadata": {
        "id": "5nOKDU-irQND",
        "colab_type": "text"
      },
      "source": [
        "### 1) Write a function \n",
        "\n",
        "`def prob_drunk_given_positive(prob_drunk_prior, false_positive_rate, true_positive_rate):` \n",
        "\n",
        "You should only truly need these two values in order to apply Bayes Theorem. In this example, imagine that individuals are taking a breathalyzer test with an 8% false positive rate, a 100% true positive rate, and that our prior belief about drunk driving in the population is 1/1000. \n",
        " - What is the probability that a person is drunk after one positive breathalyzer test?\n",
        " - What is the probability that a person is drunk after two positive breathalyzer tests?\n",
        " - How many positive breathalyzer tests are needed in order to have a probability that's greater than 95% that a person is drunk beyond the legal limit?"
      ]
    },
    {
      "cell_type": "markdown",
      "metadata": {
        "id": "QQBiyUcCkQs4",
        "colab_type": "text"
      },
      "source": [
        "The Baysein proabability of A given B:\n",
        "\n",
        "***P***(A|B)=***P***(B|A)* **P**(A)\n",
        "**DIVIDED BY**\n",
        "( ***P***(B|A)****P***(B) + ***P***(B|not A)****P***(not A) )\n",
        "\n",
        "We begin knowing:\n",
        "\n",
        "*   Probability of A & Not A (prior supposition)\n",
        "*   Probability of B & False B\n"
      ]
    },
    {
      "cell_type": "code",
      "metadata": {
        "id": "mWtMj8JZ-WjQ",
        "colab_type": "code",
        "colab": {
          "base_uri": "https://localhost:8080/",
          "height": 35
        },
        "outputId": "9b0e4eb7-8d51-4bd5-8829-eba9d2c8af39"
      },
      "source": [
        "# calculation\n",
        "prob_drunk = 0.001\n",
        "prob_sober = 1- prob_drunk\n",
        "prob_positive_if_drunk = 1\n",
        "prob_positive_if_sober = 0.08\n",
        "\n",
        "numerator = prob_positive_if_drunk*prob_drunk\n",
        "denominator = numerator+(prob_positive_if_sober*(1-prob_drunk))\n",
        "numerator/denominator\n"
      ],
      "execution_count": 8,
      "outputs": [
        {
          "output_type": "execute_result",
          "data": {
            "text/plain": [
              "0.012357884330202669"
            ]
          },
          "metadata": {
            "tags": []
          },
          "execution_count": 8
        }
      ]
    },
    {
      "cell_type": "code",
      "metadata": {
        "id": "891uvPYYyDPS",
        "colab_type": "code",
        "colab": {
          "base_uri": "https://localhost:8080/",
          "height": 35
        },
        "outputId": "96adb42a-e2a4-4fcb-95de-60f05a9e4739"
      },
      "source": [
        "# create a function to calculate the probability of being drunk with + test\n",
        "prob_drunk = 0.001\n",
        "prob_sober = 1- prob_drunk\n",
        "prob_positive_if_drunk = 1\n",
        "prob_positive_if_sober = 0.08\n",
        "\n",
        "\n",
        "def prob_drunk_given_positive(prob_drunk, prob_positive_if_sober, prob_positive_if_drunk):\n",
        "  numerator = prob_positive_if_drunk*prob_drunk\n",
        "  denominator = numerator+(prob_positive_if_sober*(1-prob_drunk))\n",
        "  x= numerator/denominator\n",
        "  return x\n",
        "\n",
        "prob_drunk_given_positive(0.001, 0.08, 1)\n",
        "\n",
        "\n",
        "# numerator = (p_b_if_a)*p_a\n",
        "# denominator = numerator + ((p_b_if_not_a)*(1-p_a)),\n",
        "# p_a_if_b = numerator/denominator\n",
        "\n",
        "# p_a_if_b\n"
      ],
      "execution_count": 8,
      "outputs": [
        {
          "output_type": "execute_result",
          "data": {
            "text/plain": [
              "0.012357884330202669"
            ]
          },
          "metadata": {
            "tags": []
          },
          "execution_count": 8
        }
      ]
    },
    {
      "cell_type": "code",
      "metadata": {
        "id": "Mo9mS1qx-dHV",
        "colab_type": "code",
        "colab": {
          "base_uri": "https://localhost:8080/",
          "height": 195
        },
        "outputId": "33a4db66-af17-4617-ae3b-7bb9515f4655"
      },
      "source": [
        "# create a while loop to repeatedly calculate until the desired\n",
        "# probability level & prepare arrays to make a table\n",
        "\n",
        "count = 1\n",
        "x = prob_drunk_given_positive(0.001, 0.08, 1)\n",
        "print ('# tests: ',count)\n",
        "print('prob of drunk:', x)\n",
        "num_tests = [count]\n",
        "prob_be_drunk=[x]\n",
        "while x <0.95:\n",
        "  x = prob_drunk_given_positive(x, 0.08, 1)\n",
        "  count=count+1\n",
        "  num_tests.append(count)\n",
        "  prob_be_drunk.append(x)\n",
        "  print ('# of breathalyzer tests: ',count)\n",
        "  print('probability of being drunk:', x)\n",
        "\n",
        "print(num_tests)\n",
        "print(prob_be_drunk)\n",
        "\n"
      ],
      "execution_count": 41,
      "outputs": [
        {
          "output_type": "stream",
          "text": [
            "# tests:  1\n",
            "prob of drunk: 0.012357884330202669\n",
            "# of breathalyzer tests:  2\n",
            "probability of being drunk: 0.13525210993291495\n",
            "# of breathalyzer tests:  3\n",
            "probability of being drunk: 0.6615996951348605\n",
            "# of breathalyzer tests:  4\n",
            "probability of being drunk: 0.9606895076105054\n",
            "[1, 2, 3, 4]\n",
            "[0.012357884330202669, 0.13525210993291495, 0.6615996951348605, 0.9606895076105054]\n"
          ],
          "name": "stdout"
        }
      ]
    },
    {
      "cell_type": "code",
      "metadata": {
        "id": "UJ-j8Cp4IrvK",
        "colab_type": "code",
        "colab": {
          "base_uri": "https://localhost:8080/",
          "height": 106
        },
        "outputId": "05964183-fde8-4362-a1f1-5d459f46104e"
      },
      "source": [
        "# Make a table to display the information\n",
        "drunk_test_df = pd.DataFrame(\n",
        "    [num_tests,\n",
        "    prob_be_drunk],\n",
        "    index =['# of breathalyzer tests','probability of being drunk'])\n",
        "\n",
        "drunk_test_df"
      ],
      "execution_count": 39,
      "outputs": [
        {
          "output_type": "execute_result",
          "data": {
            "text/html": [
              "<div>\n",
              "<style scoped>\n",
              "    .dataframe tbody tr th:only-of-type {\n",
              "        vertical-align: middle;\n",
              "    }\n",
              "\n",
              "    .dataframe tbody tr th {\n",
              "        vertical-align: top;\n",
              "    }\n",
              "\n",
              "    .dataframe thead th {\n",
              "        text-align: right;\n",
              "    }\n",
              "</style>\n",
              "<table border=\"1\" class=\"dataframe\">\n",
              "  <thead>\n",
              "    <tr style=\"text-align: right;\">\n",
              "      <th></th>\n",
              "      <th>0</th>\n",
              "      <th>1</th>\n",
              "      <th>2</th>\n",
              "      <th>3</th>\n",
              "    </tr>\n",
              "  </thead>\n",
              "  <tbody>\n",
              "    <tr>\n",
              "      <th># of breathalyzer tests</th>\n",
              "      <td>1.000000</td>\n",
              "      <td>2.000000</td>\n",
              "      <td>3.0000</td>\n",
              "      <td>4.00000</td>\n",
              "    </tr>\n",
              "    <tr>\n",
              "      <th>probability of being drunk</th>\n",
              "      <td>0.012358</td>\n",
              "      <td>0.135252</td>\n",
              "      <td>0.6616</td>\n",
              "      <td>0.96069</td>\n",
              "    </tr>\n",
              "  </tbody>\n",
              "</table>\n",
              "</div>"
            ],
            "text/plain": [
              "                                   0         1       2        3\n",
              "# of breathalyzer tests     1.000000  2.000000  3.0000  4.00000\n",
              "probability of being drunk  0.012358  0.135252  0.6616  0.96069"
            ]
          },
          "metadata": {
            "tags": []
          },
          "execution_count": 39
        }
      ]
    },
    {
      "cell_type": "code",
      "metadata": {
        "id": "UKAiwAFhHGEl",
        "colab_type": "code",
        "colab": {
          "base_uri": "https://localhost:8080/",
          "height": 164
        },
        "outputId": "955f7117-db50-424f-c66a-3b5cf0e52dda"
      },
      "source": [
        "# Make a table to display the information\n",
        "drunk_test_df = pd.DataFrame(\n",
        "    [num_tests,\n",
        "    prob_be_drunk],\n",
        "    index =['# of breathalyzer tests','probability of being drunk']).T\n",
        "\n",
        "drunk_test_df"
      ],
      "execution_count": 42,
      "outputs": [
        {
          "output_type": "execute_result",
          "data": {
            "text/html": [
              "<div>\n",
              "<style scoped>\n",
              "    .dataframe tbody tr th:only-of-type {\n",
              "        vertical-align: middle;\n",
              "    }\n",
              "\n",
              "    .dataframe tbody tr th {\n",
              "        vertical-align: top;\n",
              "    }\n",
              "\n",
              "    .dataframe thead th {\n",
              "        text-align: right;\n",
              "    }\n",
              "</style>\n",
              "<table border=\"1\" class=\"dataframe\">\n",
              "  <thead>\n",
              "    <tr style=\"text-align: right;\">\n",
              "      <th></th>\n",
              "      <th># of breathalyzer tests</th>\n",
              "      <th>probability of being drunk</th>\n",
              "    </tr>\n",
              "  </thead>\n",
              "  <tbody>\n",
              "    <tr>\n",
              "      <th>0</th>\n",
              "      <td>1.0</td>\n",
              "      <td>0.012358</td>\n",
              "    </tr>\n",
              "    <tr>\n",
              "      <th>1</th>\n",
              "      <td>2.0</td>\n",
              "      <td>0.135252</td>\n",
              "    </tr>\n",
              "    <tr>\n",
              "      <th>2</th>\n",
              "      <td>3.0</td>\n",
              "      <td>0.661600</td>\n",
              "    </tr>\n",
              "    <tr>\n",
              "      <th>3</th>\n",
              "      <td>4.0</td>\n",
              "      <td>0.960690</td>\n",
              "    </tr>\n",
              "  </tbody>\n",
              "</table>\n",
              "</div>"
            ],
            "text/plain": [
              "   # of breathalyzer tests  probability of being drunk\n",
              "0                      1.0                    0.012358\n",
              "1                      2.0                    0.135252\n",
              "2                      3.0                    0.661600\n",
              "3                      4.0                    0.960690"
            ]
          },
          "metadata": {
            "tags": []
          },
          "execution_count": 42
        }
      ]
    },
    {
      "cell_type": "markdown",
      "metadata": {
        "id": "qT75sPcEQ26l",
        "colab_type": "text"
      },
      "source": [
        "### 2) Explore `scipy.stats.bayes_mvs`  \n",
        "Read its documentation, and experiment with it on data you've tested in other ways earlier this week.\n",
        " - Create a visualization comparing the results of a Bayesian approach to a traditional/frequentist approach. (with a large sample size they should look close to identical, however, take this opportunity to practice visualizing condfidence intervals in general. The following are some potential ways that you could visualize confidence intervals on your graph:\n",
        "  - [Matplotlib Error Bars](https://matplotlib.org/3.1.1/api/_as_gen/matplotlib.pyplot.errorbar.html)\n",
        "  - [Seaborn barplot with error bars](https://seaborn.pydata.org/generated/seaborn.barplot.html)\n",
        "  - [Vertical ines to show bounds of confidence interval](https://www.simplypsychology.org/confidence-interval.jpg)\n",
        "  - [Confidence Intervals on Box Plots](https://matplotlib.org/3.1.1/api/_as_gen/matplotlib.axes.Axes.boxplot.html)\n"
      ]
    },
    {
      "cell_type": "markdown",
      "metadata": {
        "id": "SMpmULV2KRC7",
        "colab_type": "text"
      },
      "source": [
        "###3) In your own words, summarize the difference between Bayesian and Frequentist statistics -->\n",
        "If you're unsure where to start, check out this blog post of Bayes theorem with Python."
      ]
    },
    {
      "cell_type": "markdown",
      "metadata": {
        "id": "YhJCHAnZKTnE",
        "colab_type": "text"
      },
      "source": [
        "Frequentist statistics relys upon measured samples. It is based upon the presumtion that the data, given a large enough sample, will fall into a normal curve. All information is drawn based upon the sample being used.\n",
        "\n",
        "Bayesian statistics relys upon information that can be \"known\" before making calcultions."
      ]
    },
    {
      "cell_type": "markdown",
      "metadata": {
        "id": "uWgWjp3PQ3Sq",
        "colab_type": "text"
      },
      "source": [
        "## Resources"
      ]
    },
    {
      "cell_type": "markdown",
      "metadata": {
        "id": "QRgHqmYIQ9qn",
        "colab_type": "text"
      },
      "source": [
        "- [Worked example of Bayes rule calculation](https://en.wikipedia.org/wiki/Bayes'_theorem#Examples) (helpful as it fully breaks out the denominator)\n",
        "- [Source code for mvsdist in scipy](https://github.com/scipy/scipy/blob/90534919e139d2a81c24bf08341734ff41a3db12/scipy/stats/morestats.py#L139)"
      ]
    },
    {
      "cell_type": "markdown",
      "metadata": {
        "id": "GP7Jv1XvwtkX",
        "colab_type": "text"
      },
      "source": [
        "## Stretch Goals:\n",
        "\n",
        "- Go back and study the content from Modules 1 & 2 to make sure that you're really comfortable with them.\n",
        "- Apply a Bayesian technique to a problem you previously worked (in an assignment or project work) on from a frequentist (standard) perspective\n",
        "- Check out [PyMC3](https://docs.pymc.io/) (note this goes beyond hypothesis tests into modeling) - read the guides and work through some examples\n",
        "- Take PyMC3 further - see if you can build something with it!"
      ]
    },
    {
      "cell_type": "code",
      "metadata": {
        "id": "iDi0eFr1x-v_",
        "colab_type": "code",
        "colab": {}
      },
      "source": [
        ""
      ],
      "execution_count": 0,
      "outputs": []
    }
  ]
}